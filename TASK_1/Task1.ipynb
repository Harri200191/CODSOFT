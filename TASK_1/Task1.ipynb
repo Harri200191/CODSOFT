{
 "cells": [
  {
   "cell_type": "code",
   "execution_count": 138,
   "metadata": {},
   "outputs": [],
   "source": [
    "import pandas as pd\n",
    "import numpy as np\n",
    "\n",
    "import tensorflow as tf\n",
    "from tensorflow.keras.preprocessing.text import Tokenizer\n",
    "from tensorflow.keras.preprocessing.sequence import pad_sequences\n",
    "from transformers import AutoModelForSequenceClassification\n",
    "\n",
    "import matplotlib.pyplot as plt\n",
    "import seaborn as sns\n",
    "\n",
    "sns.set()"
   ]
  },
  {
   "cell_type": "code",
   "execution_count": 54,
   "metadata": {},
   "outputs": [
    {
     "name": "stdout",
     "output_type": "stream",
     "text": [
      "First line (header) looks like this:\n",
      "\n",
      "1 ::: Oscar et la dame rose (2009) ::: drama ::: Listening in to a conversation between his doctor and parents, 10-year-old Oscar learns what nobody has the courage to tell him. He only has a few weeks to live. Furious, he refuses to speak to anyone except straight-talking Rose, the lady in pink he meets on the hospital stairs. As Christmas approaches, Rose uses her fantastical experiences as a professional wrestler, her imagination, wit and charm to allow Oscar to live life and love to the full, in the company of his friends Pop Corn, Einstein, Bacon and childhood sweetheart Peggy Blue.\n",
      "\n",
      "Each data point looks like this:\n",
      "\n",
      "2 ::: Cupid (1997) ::: thriller ::: A brother and sister with a past incestuous relationship have a current murderous relationship. He murders the women who reject him and she murders the women who get too close to him.\n",
      "\n"
     ]
    }
   ],
   "source": [
    "with open(\"train_data.txt\", 'r') as file:\n",
    "    print(f\"First line (header) looks like this:\\n\\n{file.readline()}\")\n",
    "    print(f\"Each data point looks like this:\\n\\n{file.readline()}\")"
   ]
  },
  {
   "cell_type": "code",
   "execution_count": 55,
   "metadata": {},
   "outputs": [],
   "source": [
    "NUM_WORDS = 5000\n",
    "EMBEDDING_DIM = 16\n",
    "MAXLEN = 250\n",
    "PADDING = 'post'\n",
    "OOV_TOKEN = \"<OOV>\""
   ]
  },
  {
   "cell_type": "code",
   "execution_count": 56,
   "metadata": {},
   "outputs": [],
   "source": [
    "def remove_stopwords(sentence):\n",
    "    stopwords = [\"a\", \"about\", \"above\", \"after\", \"again\", \"against\", \"all\", \"am\", \"an\", \"and\", \"any\", \"are\", \"as\", \"at\", \"be\", \"because\", \"been\", \"before\", \"being\", \"below\", \"between\", \"both\", \"but\", \"by\", \"could\", \"did\", \"do\", \"does\", \"doing\", \"down\", \"during\", \"each\", \"few\", \"for\", \"from\", \"further\", \"had\", \"has\", \"have\", \"having\", \"he\", \"he'd\", \"he'll\", \"he's\", \"her\", \"here\", \"here's\", \"hers\", \"herself\", \"him\", \"himself\", \"his\", \"how\", \"how's\", \"i\", \"i'd\", \"i'll\", \"i'm\", \"i've\", \"if\", \"in\", \"into\", \"is\", \"it\", \"it's\", \"its\", \"itself\", \"let's\", \"me\", \"more\", \"most\", \"my\", \"myself\", \"nor\", \"of\", \"on\", \"once\", \"only\", \"or\", \"other\", \"ought\", \"our\", \"ours\", \"ourselves\", \"out\", \"over\", \"own\", \"same\", \"she\", \"she'd\", \"she'll\", \"she's\", \"should\", \"so\", \"some\", \"such\", \"than\", \"that\", \"that's\", \"the\", \"their\", \"theirs\", \"them\", \"themselves\", \"then\", \"there\", \"there's\", \"these\", \"they\", \"they'd\", \"they'll\", \"they're\", \"they've\", \"this\", \"those\", \"through\", \"to\", \"too\", \"under\", \"until\", \"up\", \"very\", \"was\", \"we\", \"we'd\", \"we'll\", \"we're\", \"we've\", \"were\", \"what\", \"what's\", \"when\", \"when's\", \"where\", \"where's\", \"which\", \"while\", \"who\", \"who's\", \"whom\", \"why\", \"why's\", \"with\", \"would\", \"you\", \"you'd\", \"you'll\", \"you're\", \"you've\", \"your\", \"yours\", \"yourself\", \"yourselves\" ]\n",
    "    \n",
    "    sentence = sentence.lower()\n",
    "\n",
    "    words = sentence.split()\n",
    "    no_words = [w for w in words if w not in stopwords]\n",
    "    sentence = \" \".join(no_words)\n",
    "\n",
    "    return sentence\n",
    "\n",
    "\n",
    "def parse_data_from_file(filename):\n",
    "    sentences = []\n",
    "    labels = []\n",
    "\n",
    "    with open(filename, 'r') as file:\n",
    "        for line in file:\n",
    "            values = line.strip().split(':::')\n",
    "            labels.append(values[2])\n",
    "            sentence = values[3]\n",
    "            sentence = remove_stopwords(sentence)\n",
    "            sentences.append(sentence)\n",
    "\n",
    "    return sentences, labels"
   ]
  },
  {
   "cell_type": "code",
   "execution_count": 57,
   "metadata": {},
   "outputs": [
    {
     "name": "stdout",
     "output_type": "stream",
     "text": [
      "There are 54214 sentences in the dataset.\n",
      "\n",
      "First sentence has 52 words (after removing stopwords).\n",
      "\n",
      "There are 54214 labels in the dataset.\n",
      "\n",
      "The first 5 labels are [' drama ', ' thriller ', ' adult ', ' drama ', ' drama ']\n"
     ]
    }
   ],
   "source": [
    "sentences, labels = parse_data_from_file(\"train_data.txt\")\n",
    "\n",
    "print(f\"There are {len(sentences)} sentences in the dataset.\\n\")\n",
    "print(f\"First sentence has {len(sentences[0].split())} words (after removing stopwords).\\n\")\n",
    "print(f\"There are {len(labels)} labels in the dataset.\\n\")\n",
    "print(f\"The first 5 labels are {labels[:5]}\")"
   ]
  },
  {
   "cell_type": "code",
   "execution_count": 58,
   "metadata": {},
   "outputs": [
    {
     "name": "stdout",
     "output_type": "stream",
     "text": [
      "listening conversation doctor parents, 10-year-old oscar learns nobody courage tell him. weeks live. furious, refuses speak anyone except straight-talking rose, lady pink meets hospital stairs. christmas approaches, rose uses fantastical experiences professional wrestler, imagination, wit charm allow oscar live life love full, company friends pop corn, einstein, bacon childhood sweetheart peggy blue.\n"
     ]
    }
   ],
   "source": [
    "print(sentences[0])"
   ]
  },
  {
   "cell_type": "code",
   "execution_count": 59,
   "metadata": {},
   "outputs": [
    {
     "name": "stdout",
     "output_type": "stream",
     "text": [
      "There are 54200 sentences in the dataset.\n",
      "\n",
      "First sentence has 53 words (after removing stopwords).\n",
      "\n",
      "There are 54200 labels in the dataset.\n",
      "\n",
      "The first 5 labels are [' thriller ', ' comedy ', ' documentary ', ' drama ', ' drama ']\n"
     ]
    }
   ],
   "source": [
    "test_sentences, test_labels = parse_data_from_file(\"test_data_solution.txt\")\n",
    "\n",
    "print(f\"There are {len(test_sentences)} sentences in the dataset.\\n\")\n",
    "print(f\"First sentence has {len(test_sentences[0].split())} words (after removing stopwords).\\n\")\n",
    "print(f\"There are {len(test_labels)} labels in the dataset.\\n\")\n",
    "print(f\"The first 5 labels are {test_labels[:5]}\")"
   ]
  },
  {
   "cell_type": "code",
   "execution_count": 60,
   "metadata": {},
   "outputs": [
    {
     "name": "stdout",
     "output_type": "stream",
     "text": [
      "There are 54214 sentences for training.\n",
      "\n",
      "There are 54214 labels for training.\n",
      "\n",
      "There are 54200 sentences for validation.\n",
      "\n",
      "There are 54200 labels for validation.\n"
     ]
    }
   ],
   "source": [
    "print(f\"There are {len(sentences)} sentences for training.\\n\")\n",
    "print(f\"There are {len(labels)} labels for training.\\n\")\n",
    "print(f\"There are {len(test_sentences)} sentences for validation.\\n\")\n",
    "print(f\"There are {len(test_labels)} labels for validation.\")"
   ]
  },
  {
   "cell_type": "code",
   "execution_count": 61,
   "metadata": {},
   "outputs": [],
   "source": [
    "def fit_tokenizer(train_sentences, num_words, oov_token):\n",
    "    tokenizer = Tokenizer(oov_token = oov_token, num_words = num_words)\n",
    "    tokenizer.fit_on_texts(train_sentences)\n",
    "    \n",
    "    return tokenizer"
   ]
  },
  {
   "cell_type": "code",
   "execution_count": 62,
   "metadata": {},
   "outputs": [
    {
     "name": "stdout",
     "output_type": "stream",
     "text": [
      "Vocabulary contains 138429 words\n",
      "\n",
      "<OOV> token included in vocabulary\n"
     ]
    }
   ],
   "source": [
    "tokenizer = fit_tokenizer(sentences, NUM_WORDS, OOV_TOKEN)\n",
    "word_index = tokenizer.word_index\n",
    "\n",
    "print(f\"Vocabulary contains {len(word_index)} words\\n\")\n",
    "print(\"<OOV> token included in vocabulary\" if \"<OOV>\" in word_index else \"<OOV> token NOT included in vocabulary\")"
   ]
  },
  {
   "cell_type": "code",
   "execution_count": 63,
   "metadata": {},
   "outputs": [],
   "source": [
    "def seq_and_pad(sentences, tokenizer, padding, maxlen):\n",
    "    sequences = tokenizer.texts_to_sequences(sentences)\n",
    "    padded_sequences = pad_sequences(sequences, maxlen = maxlen, padding = padding)\n",
    "\n",
    "    return padded_sequences"
   ]
  },
  {
   "cell_type": "code",
   "execution_count": 64,
   "metadata": {},
   "outputs": [
    {
     "name": "stdout",
     "output_type": "stream",
     "text": [
      "Padded training sequences have shape: (54214, 250)\n",
      "\n",
      "Padded validation sequences have shape: (54200, 250)\n"
     ]
    }
   ],
   "source": [
    "train_padded_seq = seq_and_pad(sentences, tokenizer, PADDING, MAXLEN)\n",
    "val_padded_seq = seq_and_pad(test_sentences, tokenizer, PADDING, MAXLEN)\n",
    "\n",
    "print(f\"Padded training sequences have shape: {train_padded_seq.shape}\\n\")\n",
    "print(f\"Padded validation sequences have shape: {val_padded_seq.shape}\")"
   ]
  },
  {
   "cell_type": "code",
   "execution_count": 126,
   "metadata": {},
   "outputs": [],
   "source": [
    "def remove_special_character(word, special_char='-'):\n",
    "    return word.replace(special_char, '')\n",
    "\n",
    "def replace_words_with_special_character(words_list, special_char='-'):\n",
    "    new_words_list = []\n",
    "    for word in words_list:\n",
    "        if special_char in word:\n",
    "            new_word = remove_special_character(word, special_char)\n",
    "            new_words_list.append(new_word)\n",
    "        else:\n",
    "            new_words_list.append(word)\n",
    "    return new_words_list\n",
    "\n",
    "def count_unique_elements(input_list):\n",
    "    unique_elements = set(input_list)\n",
    "    return len(unique_elements)"
   ]
  },
  {
   "cell_type": "code",
   "execution_count": 121,
   "metadata": {},
   "outputs": [],
   "source": [
    "labels = replace_words_with_special_character(labels)\n",
    "test_labels = replace_words_with_special_character(test_labels)"
   ]
  },
  {
   "cell_type": "code",
   "execution_count": 130,
   "metadata": {},
   "outputs": [
    {
     "data": {
      "text/plain": [
       "27"
      ]
     },
     "execution_count": 130,
     "metadata": {},
     "output_type": "execute_result"
    }
   ],
   "source": [
    "no = count_unique_elements(labels)\n",
    "no"
   ]
  },
  {
   "cell_type": "code",
   "execution_count": 76,
   "metadata": {},
   "outputs": [],
   "source": [
    "def flatten_list(input_list):\n",
    "    output_list = []\n",
    "    for item in input_list:\n",
    "        if isinstance(item, list):\n",
    "            output_list.extend(flatten_list(item))\n",
    "        else:\n",
    "            output_list.append(item)\n",
    "    return output_list"
   ]
  },
  {
   "cell_type": "code",
   "execution_count": 122,
   "metadata": {},
   "outputs": [],
   "source": [
    "def tokenize_labels(labels):\n",
    "    tokenizer = Tokenizer()\n",
    "    tokenizer.fit_on_texts(labels)\n",
    "    tokenized_labels = tokenizer.texts_to_sequences(labels)\n",
    "    tokenized_labels = np.array(tokenized_labels) - 1\n",
    "\n",
    "    return tokenized_labels"
   ]
  },
  {
   "cell_type": "code",
   "execution_count": 123,
   "metadata": {},
   "outputs": [
    {
     "name": "stdout",
     "output_type": "stream",
     "text": [
      "First 5 labels of the training set should look like this:\n",
      "[[ 0]\n",
      " [ 5]\n",
      " [14]\n",
      " [ 0]\n",
      " [ 0]]\n",
      "\n",
      "First 5 labels of the validation set should look like this:\n",
      "[[5]\n",
      " [2]\n",
      " [1]\n",
      " [0]\n",
      " [0]]\n",
      "\n",
      "Tokenized labels of the training set have shape: (54214, 1)\n",
      "\n",
      "Tokenized labels of the validation set have shape: (54200, 1)\n",
      "\n"
     ]
    }
   ],
   "source": [
    "train_label_seq = tokenize_labels(labels)\n",
    "val_label_seq = tokenize_labels(test_labels)\n",
    "\n",
    "print(f\"First 5 labels of the training set should look like this:\\n{train_label_seq[:5]}\\n\")\n",
    "print(f\"First 5 labels of the validation set should look like this:\\n{val_label_seq[:5]}\\n\")\n",
    "print(f\"Tokenized labels of the training set have shape: {train_label_seq.shape}\\n\")\n",
    "print(f\"Tokenized labels of the validation set have shape: {val_label_seq.shape}\\n\")"
   ]
  },
  {
   "cell_type": "code",
   "execution_count": 134,
   "metadata": {},
   "outputs": [],
   "source": [
    "def create_model(num_words, embedding_dim, maxlen):\n",
    "    tf.random.set_seed(123)\n",
    "    \n",
    "    model = tf.keras.Sequential([ \n",
    "        tf.keras.layers.Embedding(num_words, embedding_dim, input_length=maxlen),\n",
    "        tf.keras.layers.GlobalAveragePooling1D(),\n",
    "        tf.keras.layers.Dense(1024, activation='relu'),\n",
    "        tf.keras.layers.Dropout(0.3),\n",
    "        tf.keras.layers.Dense(512, activation='relu'),\n",
    "        tf.keras.layers.Dropout(0.25),\n",
    "        tf.keras.layers.Dense(96, activation='relu'),\n",
    "        tf.keras.layers.Dense(27, activation='softmax'),\n",
    "    ])\n",
    "    \n",
    "    model.compile(loss=\"sparse_categorical_crossentropy\",\n",
    "                  optimizer=\"adam\",\n",
    "                  metrics=['accuracy']) \n",
    "\n",
    "    return model"
   ]
  },
  {
   "cell_type": "code",
   "execution_count": 135,
   "metadata": {},
   "outputs": [
    {
     "name": "stdout",
     "output_type": "stream",
     "text": [
      "Epoch 1/30\n",
      "1695/1695 [==============================] - 8s 5ms/step - loss: 2.0738 - accuracy: 0.3710 - val_loss: 1.8046 - val_accuracy: 0.4665\n",
      "Epoch 2/30\n",
      "1695/1695 [==============================] - 7s 4ms/step - loss: 1.7486 - accuracy: 0.4757 - val_loss: 1.7582 - val_accuracy: 0.4783\n",
      "Epoch 3/30\n",
      "1695/1695 [==============================] - 7s 4ms/step - loss: 1.6656 - accuracy: 0.5052 - val_loss: 1.6768 - val_accuracy: 0.5128\n",
      "Epoch 4/30\n",
      "1695/1695 [==============================] - 8s 5ms/step - loss: 1.5636 - accuracy: 0.5389 - val_loss: 1.7256 - val_accuracy: 0.4972\n",
      "Epoch 5/30\n",
      "1695/1695 [==============================] - 8s 5ms/step - loss: 1.4983 - accuracy: 0.5571 - val_loss: 1.6087 - val_accuracy: 0.5265\n",
      "Epoch 6/30\n",
      "1695/1695 [==============================] - 7s 4ms/step - loss: 1.4326 - accuracy: 0.5745 - val_loss: 1.5961 - val_accuracy: 0.5385\n",
      "Epoch 7/30\n",
      "1695/1695 [==============================] - 8s 5ms/step - loss: 1.3742 - accuracy: 0.5896 - val_loss: 1.5656 - val_accuracy: 0.5505\n",
      "Epoch 8/30\n",
      "1695/1695 [==============================] - 9s 5ms/step - loss: 1.3163 - accuracy: 0.6061 - val_loss: 1.5759 - val_accuracy: 0.5424\n",
      "Epoch 9/30\n",
      "1695/1695 [==============================] - 16s 10ms/step - loss: 1.2664 - accuracy: 0.6205 - val_loss: 1.5187 - val_accuracy: 0.5547\n",
      "Epoch 10/30\n",
      "1695/1695 [==============================] - 16s 10ms/step - loss: 1.2227 - accuracy: 0.6317 - val_loss: 1.5271 - val_accuracy: 0.5586\n",
      "Epoch 11/30\n",
      "1695/1695 [==============================] - 13s 7ms/step - loss: 1.1900 - accuracy: 0.6413 - val_loss: 1.5474 - val_accuracy: 0.5539\n",
      "Epoch 12/30\n",
      "1695/1695 [==============================] - 12s 7ms/step - loss: 1.1613 - accuracy: 0.6493 - val_loss: 1.5980 - val_accuracy: 0.5514\n",
      "Epoch 13/30\n",
      "1695/1695 [==============================] - 13s 8ms/step - loss: 1.1343 - accuracy: 0.6567 - val_loss: 1.5659 - val_accuracy: 0.5563\n",
      "Epoch 14/30\n",
      "1695/1695 [==============================] - 13s 8ms/step - loss: 1.1154 - accuracy: 0.6620 - val_loss: 1.5939 - val_accuracy: 0.5564\n",
      "Epoch 15/30\n",
      "1695/1695 [==============================] - 9s 5ms/step - loss: 1.0900 - accuracy: 0.6684 - val_loss: 1.6045 - val_accuracy: 0.5506\n",
      "Epoch 16/30\n",
      "1695/1695 [==============================] - 17s 10ms/step - loss: 1.0749 - accuracy: 0.6705 - val_loss: 1.6139 - val_accuracy: 0.5541\n",
      "Epoch 17/30\n",
      "1695/1695 [==============================] - 18s 11ms/step - loss: 1.0551 - accuracy: 0.6777 - val_loss: 1.6553 - val_accuracy: 0.5482\n",
      "Epoch 18/30\n",
      "1695/1695 [==============================] - 16s 9ms/step - loss: 1.0396 - accuracy: 0.6821 - val_loss: 1.6845 - val_accuracy: 0.5351\n",
      "Epoch 19/30\n",
      "1695/1695 [==============================] - 17s 10ms/step - loss: 1.0194 - accuracy: 0.6881 - val_loss: 1.7052 - val_accuracy: 0.5435\n",
      "Epoch 20/30\n",
      "1695/1695 [==============================] - 11s 7ms/step - loss: 1.0011 - accuracy: 0.6942 - val_loss: 1.6722 - val_accuracy: 0.5446\n",
      "Epoch 21/30\n",
      "1695/1695 [==============================] - 8s 5ms/step - loss: 0.9884 - accuracy: 0.6956 - val_loss: 1.7216 - val_accuracy: 0.5413\n",
      "Epoch 22/30\n",
      "1695/1695 [==============================] - 12s 7ms/step - loss: 0.9740 - accuracy: 0.7003 - val_loss: 1.7483 - val_accuracy: 0.5392\n",
      "Epoch 23/30\n",
      "1695/1695 [==============================] - 18s 10ms/step - loss: 0.9591 - accuracy: 0.7046 - val_loss: 1.7644 - val_accuracy: 0.5406\n",
      "Epoch 24/30\n",
      "1695/1695 [==============================] - 18s 10ms/step - loss: 0.9396 - accuracy: 0.7113 - val_loss: 1.8108 - val_accuracy: 0.5463\n",
      "Epoch 25/30\n",
      "1695/1695 [==============================] - 8s 5ms/step - loss: 0.9298 - accuracy: 0.7148 - val_loss: 1.8212 - val_accuracy: 0.5372\n",
      "Epoch 26/30\n",
      "1695/1695 [==============================] - 7s 4ms/step - loss: 0.9071 - accuracy: 0.7204 - val_loss: 1.8071 - val_accuracy: 0.5389\n",
      "Epoch 27/30\n",
      "1695/1695 [==============================] - 7s 4ms/step - loss: 0.8953 - accuracy: 0.7234 - val_loss: 1.8691 - val_accuracy: 0.5342\n",
      "Epoch 28/30\n",
      "1695/1695 [==============================] - 7s 4ms/step - loss: 0.8798 - accuracy: 0.7269 - val_loss: 1.8849 - val_accuracy: 0.5355\n",
      "Epoch 29/30\n",
      "1695/1695 [==============================] - 7s 4ms/step - loss: 0.8636 - accuracy: 0.7332 - val_loss: 1.9675 - val_accuracy: 0.5268\n",
      "Epoch 30/30\n",
      "1695/1695 [==============================] - 7s 4ms/step - loss: 0.8510 - accuracy: 0.7359 - val_loss: 1.9105 - val_accuracy: 0.5247\n"
     ]
    }
   ],
   "source": [
    "model = create_model(NUM_WORDS, EMBEDDING_DIM, MAXLEN)\n",
    "\n",
    "history = model.fit(train_padded_seq, train_label_seq, epochs=30, validation_data=(val_padded_seq, val_label_seq))"
   ]
  },
  {
   "cell_type": "code",
   "execution_count": 136,
   "metadata": {},
   "outputs": [
    {
     "data": {
      "image/png": "[encoded data removed]",
      "text/plain": [
       "<Figure size 640x480 with 1 Axes>"
      ]
     },
     "metadata": {},
     "output_type": "display_data"
    },
    {
     "data": {
      "image/png": "[encoded data removed]",
      "text/plain": [
       "<Figure size 640x480 with 1 Axes>"
      ]
     },
     "metadata": {},
     "output_type": "display_data"
    }
   ],
   "source": [
    "def plot_graphs(history, metric):\n",
    "    plt.plot(history.history[metric])\n",
    "    plt.plot(history.history[f'val_{metric}'])\n",
    "    plt.xlabel(\"Epochs\")\n",
    "    plt.ylabel(metric)\n",
    "    plt.legend([metric, f'val_{metric}'])\n",
    "    plt.show()\n",
    "    \n",
    "plot_graphs(history, \"accuracy\")\n",
    "plot_graphs(history, \"loss\")"
   ]
  },
  {
   "cell_type": "code",
   "execution_count": null,
   "metadata": {},
   "outputs": [],
   "source": []
  }
 ],
 "metadata": {
  "kernelspec": {
   "display_name": "Python 3",
   "language": "python",
   "name": "python3"
  },
  "language_info": {
   "codemirror_mode": {
    "name": "ipython",
    "version": 3
   },
   "file_extension": ".py",
   "mimetype": "text/x-python",
   "name": "python",
   "nbconvert_exporter": "python",
   "pygments_lexer": "ipython3",
   "version": "3.9.16"
  },
  "orig_nbformat": 4
 },
 "nbformat": 4,
 "nbformat_minor": 2
}
